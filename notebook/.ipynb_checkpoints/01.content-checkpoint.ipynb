{
 "cells": [
  {
   "cell_type": "markdown",
   "metadata": {
    "ExecuteTime": {
     "end_time": "2020-08-09T15:05:28.001141Z",
     "start_time": "2020-08-09T15:05:27.997641Z"
    }
   },
   "source": [
    "---\n",
    "---\n",
    "### 计算社会科学简介\n",
    "\n",
    "# Introduction to Computational Social Science\n",
    "\n",
    "---\n",
    "---"
   ]
  },
  {
   "cell_type": "markdown",
   "metadata": {},
   "source": [
    "[![Open In Colab](https://colab.research.google.com/assets/colab-badge.svg)](https://colab.research.google.com/github/computational-class/css/blob/master/notebook/01.content.ipynb)\n"
   ]
  },
  {
   "cell_type": "markdown",
   "metadata": {},
   "source": [
    "|Content|\n",
    "|:--:|\n",
    "| [ 01.intro2css.ipynb](https://colab.research.google.com/github/computational-class/css/blob/master/notebook/01.intro2css.ipynb) |\n",
    "| [ 02.01-network-science-intro.ipynb](https://colab.research.google.com/github/computational-class/css/blob/master/notebook/02.01-network-science-intro.ipynb) |\n",
    "| [ 02.02-networkx.ipynb](https://colab.research.google.com/github/computational-class/css/blob/master/notebook/02.02-networkx.ipynb) |\n",
    "| [ 02.03-network-science-models.ipynb](https://colab.research.google.com/github/computational-class/css/blob/master/notebook/02.03-network-science-models.ipynb) |\n",
    "| [ 03.01.experiment.ipynb](https://colab.research.google.com/github/computational-class/css/blob/master/notebook/03.01.experiment.ipynb) |\n",
    "| [ 03.02.causality.ipynb](https://colab.research.google.com/github/computational-class/css/blob/master/notebook/03.02.causality.ipynb) |\n",
    "| [ 03.03.instrumental-variable.ipynb](https://colab.research.google.com/github/computational-class/css/blob/master/notebook/03.03.instrumental-variable.ipynb) |\n",
    "| [ 03.04.matching.ipynb](https://colab.research.google.com/github/computational-class/css/blob/master/notebook/03.04.matching.ipynb) |\n",
    "| [ 03.05.regression-discontinuity-designs.ipynb](https://colab.research.google.com/github/computational-class/css/blob/master/notebook/03.05.regression-discontinuity-designs.ipynb) |\n",
    "| [ 03.06.difference-in-difference.ipynb](https://colab.research.google.com/github/computational-class/css/blob/master/notebook/03.06.difference-in-difference.ipynb) |\n",
    "| [ 04.01.ABM.ipynb](https://colab.research.google.com/github/computational-class/css/blob/master/notebook/04.01.ABM.ipynb) |\n",
    "| [ 04.02.network_diffusion.ipynb](https://colab.research.google.com/github/computational-class/css/blob/master/notebook/04.02.network_diffusion.ipynb) |\n",
    "| [ 04.03-network-epidemics.ipynb](https://colab.research.google.com/github/computational-class/css/blob/master/notebook/04.03-network-epidemics.ipynb) |\n",
    "| [ 04.04.seir-hcd-model.ipynb](https://colab.research.google.com/github/computational-class/css/blob/master/notebook/04.04.seir-hcd-model.ipynb) |\n",
    "| [ 05.01-observing-behaviors.ipynb](https://colab.research.google.com/github/computational-class/css/blob/master/notebook/05.01-observing-behaviors.ipynb) |\n",
    "| [ 05.02-asking-questions.ipynb](https://colab.research.google.com/github/computational-class/css/blob/master/notebook/05.02-asking-questions.ipynb) |\n",
    "| [ 06.01-What-Is-Machine-Learning.ipynb](https://colab.research.google.com/github/computational-class/css/blob/master/notebook/06.01-What-Is-Machine-Learning.ipynb) |\n",
    "| [ 06.02-machine-learning-with-sklearn.ipynb](https://colab.research.google.com/github/computational-class/css/blob/master/notebook/06.02-machine-learning-with-sklearn.ipynb) |\n",
    "| [ 06.03-Hyperparameters-and-Model-Validation.ipynb](https://colab.research.google.com/github/computational-class/css/blob/master/notebook/06.03-Hyperparameters-and-Model-Validation.ipynb) |\n",
    "| [ 06.04-Feature-Engineering.ipynb](https://colab.research.google.com/github/computational-class/css/blob/master/notebook/06.04-Feature-Engineering.ipynb) |\n",
    "| [ 06.05-Naive-Bayes.ipynb](https://colab.research.google.com/github/computational-class/css/blob/master/notebook/06.05-Naive-Bayes.ipynb) |\n",
    "| [ 06.06-Linear-Regression.ipynb](https://colab.research.google.com/github/computational-class/css/blob/master/notebook/06.06-Linear-Regression.ipynb) |\n",
    "| [ 06.07-Support-Vector-Machines.ipynb](https://colab.research.google.com/github/computational-class/css/blob/master/notebook/06.07-Support-Vector-Machines.ipynb) |\n",
    "| [ 06.08-Random-Forests.ipynb](https://colab.research.google.com/github/computational-class/css/blob/master/notebook/06.08-Random-Forests.ipynb) |\n",
    "| [ 07.01-neural-network-intro.ipynb](https://colab.research.google.com/github/computational-class/css/blob/master/notebook/07.01-neural-network-intro.ipynb) |\n",
    "| [ 07.02-hand-written-digits.ipynb](https://colab.research.google.com/github/computational-class/css/blob/master/notebook/07.02-hand-written-digits.ipynb) |\n",
    "| [ 07.03.CNN.ipynb](https://colab.research.google.com/github/computational-class/css/blob/master/notebook/07.03.CNN.ipynb) |\n",
    "| [ 07.04-RNN.ipynb](https://colab.research.google.com/github/computational-class/css/blob/master/notebook/07.04-RNN.ipynb) |\n",
    "| [ 08.01-text-mining.ipynb](https://colab.research.google.com/github/computational-class/css/blob/master/notebook/08.01-text-mining.ipynb) |\n",
    "| [ 08.02-sentiment-analysis-with-dict.ipynb](https://colab.research.google.com/github/computational-class/css/blob/master/notebook/08.02-sentiment-analysis-with-dict.ipynb) |\n",
    "| [ 08.03-sentiment-classifier.ipynb](https://colab.research.google.com/github/computational-class/css/blob/master/notebook/08.03-sentiment-classifier.ipynb) |\n",
    "| [ 08.03.emotion_dict.ipynb](https://colab.research.google.com/github/computational-class/css/blob/master/notebook/08.03.emotion_dict.ipynb) |\n",
    "| [ 08.04-topic-models-update.ipynb](https://colab.research.google.com/github/computational-class/css/blob/master/notebook/08.04-topic-models-update.ipynb) |\n",
    "| [ 08.05-topic-models-with-turicreate.ipynb](https://colab.research.google.com/github/computational-class/css/blob/master/notebook/08.05-topic-models-with-turicreate.ipynb) |\n",
    "| [ 09-word2vec.ipynb](https://colab.research.google.com/github/computational-class/css/blob/master/notebook/09-word2vec.ipynb) |\n",
    "\n",
    "\n"
   ]
  },
  {
   "cell_type": "markdown",
   "metadata": {},
   "source": [
    "![image.png](./img/chengjun.png)"
   ]
  }
 ],
 "metadata": {
  "kernelspec": {
   "display_name": "Python 3",
   "language": "python",
   "name": "python3"
  },
  "language_info": {
   "codemirror_mode": {
    "name": "ipython",
    "version": 3
   },
   "file_extension": ".py",
   "mimetype": "text/x-python",
   "name": "python",
   "nbconvert_exporter": "python",
   "pygments_lexer": "ipython3",
   "version": "3.7.6"
  },
  "toc": {
   "base_numbering": 1,
   "nav_menu": {},
   "number_sections": false,
   "sideBar": true,
   "skip_h1_title": false,
   "title_cell": "Table of Contents",
   "title_sidebar": "Contents",
   "toc_cell": false,
   "toc_position": {},
   "toc_section_display": true,
   "toc_window_display": false
  }
 },
 "nbformat": 4,
 "nbformat_minor": 4
}
