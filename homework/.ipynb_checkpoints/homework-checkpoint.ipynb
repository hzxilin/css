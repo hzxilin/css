{
 "cells": [
  {
   "cell_type": "markdown",
   "metadata": {},
   "source": [
    "# 第一天 简介\n",
    "\n",
    "1. 根据教学立方发布的视频，使用mobirise建立个人网站，并提交个人网站的url。\n",
    "2. 按chunk读取并分析数据\n",
    "    - 下载ows-raw.txt\n",
    "    - 按照https://computational-class.github.io/ccbook/06-data-cleaning-preprocessing.html 中介绍的按照chunk读取数据的方式读取数据\n",
    "    - 以使用csv包为例：\n",
    "    - 提示：from collections import defaultdict\n",
    "    - 提示：day_user_dict = defaultdict(list)\n",
    "    - 对链接中代码的lines写for循环进行遍历，提取每一行的day和user\n",
    "    - day_user_dict[day].append(user)\n",
    "    - 注意对for循环里的每一行写try except语句规避错误\n",
    "    - 最后：\n",
    "\n",
    "```\n",
    "for i in day_user_dict:\n",
    "    print(i,len(day_user_dict[i]),len(set(day_user_dict[i])))\n",
    "```\n",
    "\n",
    "\n",
    "\n",
    "\n",
    "提交记录以上过程的notebook"
   ]
  },
  {
   "cell_type": "code",
   "execution_count": null,
   "metadata": {},
   "outputs": [],
   "source": []
  }
 ],
 "metadata": {
  "kernelspec": {
   "display_name": "Python 3",
   "language": "python",
   "name": "python3"
  },
  "language_info": {
   "codemirror_mode": {
    "name": "ipython",
    "version": 3
   },
   "file_extension": ".py",
   "mimetype": "text/x-python",
   "name": "python",
   "nbconvert_exporter": "python",
   "pygments_lexer": "ipython3",
   "version": "3.7.6"
  },
  "toc": {
   "base_numbering": 1,
   "nav_menu": {},
   "number_sections": false,
   "sideBar": true,
   "skip_h1_title": false,
   "title_cell": "Table of Contents",
   "title_sidebar": "Contents",
   "toc_cell": false,
   "toc_position": {},
   "toc_section_display": true,
   "toc_window_display": false
  }
 },
 "nbformat": 4,
 "nbformat_minor": 4
}
